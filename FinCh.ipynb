{
 "cells": [
  {
   "cell_type": "code",
   "execution_count": 1,
   "id": "3c247f46",
   "metadata": {},
   "outputs": [],
   "source": [
    "# Simpilistic Class\n",
    "\n",
    "class Student():\n",
    "    pass        # Do nothing just define an empty class called Student"
   ]
  },
  {
   "cell_type": "code",
   "execution_count": 2,
   "id": "5fc9fb03",
   "metadata": {},
   "outputs": [
    {
     "data": {
      "text/plain": [
       "__main__.Student"
      ]
     },
     "execution_count": 2,
     "metadata": {},
     "output_type": "execute_result"
    }
   ],
   "source": [
    "# Creating an Object of the above class\n",
    "\n",
    "std1 = Student() # Creates an object std1 of the class\n",
    "\n",
    "type(std1)\n"
   ]
  },
  {
   "cell_type": "code",
   "execution_count": 3,
   "id": "3796a511",
   "metadata": {},
   "outputs": [
    {
     "name": "stdout",
     "output_type": "stream",
     "text": [
      "Student 1 belongs to:  INFS\n",
      "Student 2 belongs to:  INFS\n"
     ]
    }
   ],
   "source": [
    "# Creating Class Attributes/Properties of a class \n",
    "\n",
    "class Student():\n",
    "    dept = \"INFS\"  # Global(Class-level) Attribute. Also called a \"Class Attribute\"\n",
    "                   # Class Attributes are accessible by all objects of the same class\n",
    "\n",
    "# Creating 2 objects of the class\n",
    "\n",
    "std1 = Student()\n",
    "std2 = Student()\n",
    "\n",
    "print(\"Student 1 belongs to: \", std1.dept)\n",
    "print(\"Student 2 belongs to: \", std2.dept)"
   ]
  },
  {
   "cell_type": "code",
   "execution_count": 4,
   "id": "3bb4d125",
   "metadata": {},
   "outputs": [
    {
     "name": "stdout",
     "output_type": "stream",
     "text": [
      "Student 1 Deptarment: INFS   Name: Waqas  Age: 22   GPA: 1.9 \n",
      "Student 2 Deptarment: INFS   Name: Jenan  Age: 20   GPA: 3.5 \n"
     ]
    }
   ],
   "source": [
    "# Defining Object Attributes using the __init__ method\n",
    "\n",
    "class Student():\n",
    "    dept = \"INFS\" \n",
    "    \n",
    "    def __init__(self, name, age, gpa, prob):\n",
    "        \n",
    "        # The below definitions should read as:\n",
    "        # self.object_attrib = value_passed\n",
    "         \n",
    "        self.name = name  # self refes to the object (std1, std2 in our example) for which this method is called\n",
    "        self.age = age\n",
    "        self.gpa = gpa\n",
    "        self.probation = prob\n",
    "        \n",
    "\n",
    "# Creating objects \n",
    "\n",
    "std1 = Student(\"Waqas\", 22, 1.9, True) # self will be called automatically for std1\n",
    "std2 = Student(\"Jenan\", 20, 3.5, False)\n",
    "\n",
    "# OR you can say std1 = Student(name=\"Ahmad\", age=22, gpa=2.8)\n",
    "\n",
    "print(f\"Student 1 Deptarment: {std1.dept}   Name: {std1.name}  Age: {std1.age}   GPA: {std1.gpa} \")\n",
    "print(f\"Student 2 Deptarment: {std1.dept}   Name: {std2.name}  Age: {std2.age}   GPA: {std2.gpa} \")\n",
    "\n"
   ]
  },
  {
   "cell_type": "code",
   "execution_count": 5,
   "id": "ae5aa4d4",
   "metadata": {},
   "outputs": [
    {
     "data": {
      "text/plain": [
       "'Waqas'"
      ]
     },
     "execution_count": 5,
     "metadata": {},
     "output_type": "execute_result"
    }
   ],
   "source": [
    "# You can also access these user defined objects' properties/attributes as\n",
    "\n",
    "std1.name\n"
   ]
  },
  {
   "cell_type": "code",
   "execution_count": 6,
   "id": "99d1e763",
   "metadata": {},
   "outputs": [
    {
     "data": {
      "text/plain": [
       "'Jenan'"
      ]
     },
     "execution_count": 6,
     "metadata": {},
     "output_type": "execute_result"
    }
   ],
   "source": [
    "std2.name"
   ]
  },
  {
   "cell_type": "code",
   "execution_count": 7,
   "id": "3bcd6f1c",
   "metadata": {},
   "outputs": [
    {
     "name": "stdout",
     "output_type": "stream",
     "text": [
      "Probation Status of Waqas is True\n",
      "Probation Status of Jenan is False\n"
     ]
    }
   ],
   "source": [
    "# Check Probation Status\n",
    "print(f\"Probation Status of {std1.name} is {std1.probation}\")\n",
    "print(f\"Probation Status of {std2.name} is {std2.probation}\")"
   ]
  },
  {
   "cell_type": "code",
   "execution_count": 21,
   "id": "cd95d590",
   "metadata": {},
   "outputs": [
    {
     "data": {
      "text/plain": [
       "'Grade C'"
      ]
     },
     "execution_count": 21,
     "metadata": {},
     "output_type": "execute_result"
    }
   ],
   "source": [
    "# Defining Object Attributes using the __init__ method\n",
    "import statistics\n",
    "\n",
    "class StudentGrade():\n",
    "    \n",
    "    def __init__(self, name, obt_marks):\n",
    "        \n",
    "        self.name = name\n",
    "        self.marks = obt_marks\n",
    "   \n",
    "    # Defining the class method\n",
    "    \n",
    "    def grade(self):\n",
    "        \n",
    "        avg = statistics.mean(self.marks.values())\n",
    "        if avg > 80:\n",
    "            return \"Grade A\"\n",
    "        elif avg == 80:\n",
    "            return \"Grade B\"\n",
    "        else:\n",
    "            return \"Grade C\"\n",
    "        \n",
    "# Creating objects \n",
    "\n",
    "exam_points = {\"INFS3420\":78, \"INFS4425\":69, \"INFS4432\":81 }\n",
    "\n",
    "std1 = StudentGrade(\"Waqas\", exam_points)\n",
    "\n",
    "std1.grade()\n",
    "\n",
    "\n"
   ]
  },
  {
   "cell_type": "markdown",
   "id": "0da0eabd",
   "metadata": {},
   "source": [
    "# Challenge Exercise - Final\n",
    "\n",
    "* Create a class called **Circle** with a Class Attribute called **pi = 3.14**\n",
    "* Create an object of the class with an input radius , e.g. `c1 = Circle(2)`. **2** will be the radius\n",
    "    - Make sure that you print **Object Created** message when you create an object\n",
    "* Create two object attributes:\n",
    "    - **radius** and **area**.\n",
    "    - The **area** attribute should be calculated based on the radius and pi\n",
    "    - Area = $\\pi r^2$\n",
    "* Create the class method **get_circumference** that will return the circumference ($2 \\pi r$)\n",
    "* Print the radius of the object\n",
    "* Print the area of the object\n",
    "* Print the circumference of the object\n"
   ]
  },
  {
   "cell_type": "code",
   "execution_count": null,
   "id": "7a3dac64",
   "metadata": {},
   "outputs": [],
   "source": []
  },
  {
   "cell_type": "code",
   "execution_count": null,
   "id": "6fc406dd",
   "metadata": {},
   "outputs": [],
   "source": []
  },
  {
   "cell_type": "code",
   "execution_count": null,
   "id": "cc69a228",
   "metadata": {},
   "outputs": [],
   "source": []
  },
  {
   "cell_type": "code",
   "execution_count": null,
   "id": "38dd539d",
   "metadata": {},
   "outputs": [],
   "source": []
  },
  {
   "cell_type": "code",
   "execution_count": null,
   "id": "943db30c",
   "metadata": {},
   "outputs": [],
   "source": []
  }
 ],
 "metadata": {
  "kernelspec": {
   "display_name": "Python 3 (ipykernel)",
   "language": "python",
   "name": "python3"
  },
  "language_info": {
   "codemirror_mode": {
    "name": "ipython",
    "version": 3
   },
   "file_extension": ".py",
   "mimetype": "text/x-python",
   "name": "python",
   "nbconvert_exporter": "python",
   "pygments_lexer": "ipython3",
   "version": "3.9.12"
  }
 },
 "nbformat": 4,
 "nbformat_minor": 5
}
