{
 "cells": [
  {
   "cell_type": "markdown",
   "id": "0da0eabd",
   "metadata": {},
   "source": [
    "# Challenge Exercise - Final\n",
    "\n",
    "* Create a class called **Circle** with a Class Attribute called **pi = 3.14**\n",
    "* Create an object of the class with an input radius , e.g. `c1 = Circle(2)`. **2** will be the radius\n",
    "    - Make sure that you print **Object Created** message when you create an object\n",
    "* Create two object attributes:\n",
    "    - **radius** and **area**.\n",
    "    - The **area** attribute should be calculated based on the radius and pi\n",
    "    - Area = $\\pi r^2$\n",
    "* Create the class method **get_circumference** that will return the circumference ($2 \\pi r$)\n",
    "* Print the radius of the object\n",
    "* Print the area of the object\n",
    "* Print the circumference of the object\n"
   ]
  }
 ],
 "metadata": {
  "kernelspec": {
   "display_name": "Python 3 (ipykernel)",
   "language": "python",
   "name": "python3"
  },
  "language_info": {
   "codemirror_mode": {
    "name": "ipython",
    "version": 3
   },
   "file_extension": ".py",
   "mimetype": "text/x-python",
   "name": "python",
   "nbconvert_exporter": "python",
   "pygments_lexer": "ipython3",
   "version": "3.9.12"
  }
 },
 "nbformat": 4,
 "nbformat_minor": 5
}
